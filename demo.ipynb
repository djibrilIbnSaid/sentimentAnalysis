{
 "cells": [
  {
   "cell_type": "code",
   "execution_count": 1,
   "metadata": {},
   "outputs": [],
   "source": [
    "import functools\n",
    "\n",
    "from agents.data_cleaning_agent import DataCleaningAgent\n",
    "from agents.human_agent import HumanAgent\n",
    "from agents.labeling_agent import LabelingAgent\n",
    "from agents.tweet_collector_agent import TweetCollectorAgent\n",
    "from langgraph.graph import StateGraph, START\n",
    "\n",
    "from agents.supervisor_agent import SupervisorAgent\n",
    "from langchain_core.messages import HumanMessage\n",
    "from typing_extensions import TypedDict"
   ]
  },
  {
   "cell_type": "code",
   "execution_count": 2,
   "metadata": {},
   "outputs": [],
   "source": [
    "class AgentState(TypedDict):\n",
    "    messages: list[HumanMessage]\n",
    "    next: str\n",
    "    current_index: int\n",
    "    data: dict\n",
    "    context: str"
   ]
  },
  {
   "cell_type": "code",
   "execution_count": 3,
   "metadata": {},
   "outputs": [],
   "source": [
    "members = [\"Human\", \"TweetCollector\", \"DataCleaner\", \"Labeler\"]"
   ]
  },
  {
   "cell_type": "code",
   "execution_count": 4,
   "metadata": {},
   "outputs": [],
   "source": [
    "tweet_collector = TweetCollectorAgent()\n",
    "data_cleaner = DataCleaningAgent()\n",
    "labeler = LabelingAgent()\n",
    "human_agent = HumanAgent()\n",
    "supervisor = SupervisorAgent(members)"
   ]
  },
  {
   "cell_type": "code",
   "execution_count": 5,
   "metadata": {},
   "outputs": [],
   "source": [
    "human_node = functools.partial(SupervisorAgent.agent_node, agent=human_agent, name=\"Human\")\n",
    "tweet_collector_node = functools.partial(SupervisorAgent.agent_node, agent=tweet_collector, name=\"TweetCollector\")\n",
    "data_cleaner_node = functools.partial(SupervisorAgent.agent_node, agent=data_cleaner, name=\"DataCleaner\")\n",
    "labeler_node = functools.partial(SupervisorAgent.agent_node, agent=labeler, name=\"Labeler\")"
   ]
  },
  {
   "cell_type": "code",
   "execution_count": 6,
   "metadata": {},
   "outputs": [
    {
     "data": {
      "text/plain": [
       "<langgraph.graph.state.StateGraph at 0x1275f7080>"
      ]
     },
     "execution_count": 6,
     "metadata": {},
     "output_type": "execute_result"
    }
   ],
   "source": [
    "workflow = StateGraph(AgentState)\n",
    "workflow.add_node(\"Human\", human_node)\n",
    "workflow.add_node(\"TweetCollector\", tweet_collector_node)\n",
    "workflow.add_node(\"DataCleaner\", data_cleaner_node)\n",
    "workflow.add_node(\"Labeler\", labeler_node)\n",
    "workflow.add_node(\"supervisor\", supervisor.supervisor_agent)"
   ]
  },
  {
   "cell_type": "code",
   "execution_count": 7,
   "metadata": {},
   "outputs": [],
   "source": [
    "# Ajout des arêtes entre agents et le superviseur\n",
    "for member in members:\n",
    "    workflow.add_edge(member, \"supervisor\")\n",
    "\n",
    "# Ajouter des arêtes conditionnelles à partir du superviseur\n",
    "workflow.add_conditional_edges(\"supervisor\", SupervisorAgent.supervisor_decision, supervisor.conditional_map())\n",
    "\n",
    "# Ajouter le point d'entrée dans le workflow (HumanAgent)\n",
    "workflow.add_edge(START, \"Human\")\n",
    "\n",
    "# Compiler le workflow pour l'exécution\n",
    "graph = workflow.compile()"
   ]
  },
  {
   "cell_type": "code",
   "execution_count": 8,
   "metadata": {},
   "outputs": [
    {
     "name": "stdout",
     "output_type": "stream",
     "text": [
      "--------------------\n",
      "{'messages': [HumanMessage(content='Context provided by human:', additional_kwargs={}, response_metadata={})], 'data': '', 'context': 'Kamala Harris'}\n",
      "--------------------\n",
      "{'Human': {'messages': [HumanMessage(content='Context provided by human:', additional_kwargs={}, response_metadata={}, name='Human')], 'data': '', 'context': 'Kamala Harris'}}\n",
      "----\n",
      "Le superviseur a choisi : TweetCollector\n",
      "{'supervisor': {'messages': [HumanMessage(content='Context provided by human:', additional_kwargs={}, response_metadata={}, name='Human'), HumanMessage(content='Superviseur: Prochaine action - TweetCollector', additional_kwargs={}, response_metadata={})], 'next': 'TweetCollector', 'current_index': 1, 'data': '', 'context': 'Kamala Harris'}}\n",
      "----\n",
      "--------------------\n",
      "{'messages': [HumanMessage(content='Context provided by human:', additional_kwargs={}, response_metadata={}, name='Human'), HumanMessage(content='Superviseur: Prochaine action - TweetCollector', additional_kwargs={}, response_metadata={}), HumanMessage(content=\"Action effectuée par l'agent TweetCollectorAgent\", additional_kwargs={}, response_metadata={})], 'data': 'tweets.csv', 'context': 'Kamala Harris'}\n",
      "--------------------\n",
      "{'TweetCollector': {'messages': [HumanMessage(content=\"Action effectuée par l'agent TweetCollectorAgent\", additional_kwargs={}, response_metadata={}, name='TweetCollector')], 'data': 'tweets.csv', 'context': 'Kamala Harris'}}\n",
      "----\n",
      "Le superviseur a choisi : DataCleaner\n",
      "{'supervisor': {'messages': [HumanMessage(content=\"Action effectuée par l'agent TweetCollectorAgent\", additional_kwargs={}, response_metadata={}, name='TweetCollector'), HumanMessage(content='Superviseur: Prochaine action - DataCleaner', additional_kwargs={}, response_metadata={})], 'next': 'DataCleaner', 'current_index': 2, 'data': 'tweets.csv', 'context': 'Kamala Harris'}}\n",
      "----\n",
      "--------------------\n",
      "{'messages': [HumanMessage(content=\"Action effectuée par l'agent TweetCollectorAgent\", additional_kwargs={}, response_metadata={}, name='TweetCollector'), HumanMessage(content='Superviseur: Prochaine action - DataCleaner', additional_kwargs={}, response_metadata={}), HumanMessage(content=\"Action effectuée par l'agent DataCleaningAgent\", additional_kwargs={}, response_metadata={})], 'data': 'tweets_dataset_clean.csv', 'context': 'Kamala Harris'}\n",
      "--------------------\n",
      "{'DataCleaner': {'messages': [HumanMessage(content=\"Action effectuée par l'agent DataCleaningAgent\", additional_kwargs={}, response_metadata={}, name='DataCleaner')], 'data': 'tweets_dataset_clean.csv', 'context': 'Kamala Harris'}}\n",
      "----\n",
      "Le superviseur a choisi : Labeler\n",
      "{'supervisor': {'messages': [HumanMessage(content=\"Action effectuée par l'agent DataCleaningAgent\", additional_kwargs={}, response_metadata={}, name='DataCleaner'), HumanMessage(content='Superviseur: Prochaine action - Labeler', additional_kwargs={}, response_metadata={})], 'next': 'Labeler', 'current_index': 3, 'data': 'tweets_dataset_clean.csv', 'context': 'Kamala Harris'}}\n",
      "----\n",
      "Query: Kamala Harris\n"
     ]
    },
    {
     "name": "stderr",
     "output_type": "stream",
     "text": [
      "/Users/MyMac/Documents/univReims/M2/systemeMultiAgents/sentimentAnalysis/agents/labeling_agent.py:23: LangChainDeprecationWarning: The method `BaseLLM.__call__` was deprecated in langchain-core 0.1.7 and will be removed in 1.0. Use :meth:`~invoke` instead.\n",
      "  result = self.llm(prompt)\n"
     ]
    },
    {
     "name": "stdout",
     "output_type": "stream",
     "text": [
      "Query: Kamala Harris\n",
      "Query: Kamala Harris\n",
      "Query: Kamala Harris\n",
      "Query: Kamala Harris\n",
      "Query: Kamala Harris\n",
      "Query: Kamala Harris\n",
      "Query: Kamala Harris\n",
      "Query: Kamala Harris\n",
      "Query: Kamala Harris\n",
      "Query: Kamala Harris\n",
      "Query: Kamala Harris\n",
      "Query: Kamala Harris\n",
      "Query: Kamala Harris\n",
      "Query: Kamala Harris\n",
      "Query: Kamala Harris\n",
      "Query: Kamala Harris\n",
      "Query: Kamala Harris\n",
      "Query: Kamala Harris\n",
      "Query: Kamala Harris\n",
      "Query: Kamala Harris\n",
      "Query: Kamala Harris\n",
      "Query: Kamala Harris\n",
      "Query: Kamala Harris\n",
      "Query: Kamala Harris\n",
      "Query: Kamala Harris\n",
      "Query: Kamala Harris\n",
      "Query: Kamala Harris\n",
      "Query: Kamala Harris\n",
      "Query: Kamala Harris\n",
      "Query: Kamala Harris\n",
      "Query: Kamala Harris\n",
      "Query: Kamala Harris\n",
      "Query: Kamala Harris\n",
      "Query: Kamala Harris\n",
      "Query: Kamala Harris\n",
      "Query: Kamala Harris\n",
      "Query: Kamala Harris\n",
      "Query: Kamala Harris\n",
      "Query: Kamala Harris\n",
      "Query: Kamala Harris\n",
      "Query: Kamala Harris\n",
      "Query: Kamala Harris\n",
      "Query: Kamala Harris\n",
      "Query: Kamala Harris\n",
      "Query: Kamala Harris\n",
      "Query: Kamala Harris\n",
      "Query: Kamala Harris\n",
      "Query: Kamala Harris\n",
      "Query: Kamala Harris\n",
      "Query: Kamala Harris\n",
      "Query: Kamala Harris\n",
      "Query: Kamala Harris\n",
      "Query: Kamala Harris\n",
      "Query: Kamala Harris\n",
      "Query: Kamala Harris\n",
      "Query: Kamala Harris\n",
      "Query: Kamala Harris\n",
      "Query: Kamala Harris\n",
      "Query: Kamala Harris\n",
      "Query: Kamala Harris\n",
      "Query: Kamala Harris\n",
      "Query: Kamala Harris\n",
      "Query: Kamala Harris\n",
      "Query: Kamala Harris\n",
      "Query: Kamala Harris\n",
      "Query: Kamala Harris\n",
      "Query: Kamala Harris\n",
      "Query: Kamala Harris\n",
      "Query: Kamala Harris\n",
      "Query: Kamala Harris\n",
      "Query: Kamala Harris\n",
      "Query: Kamala Harris\n",
      "Query: Kamala Harris\n",
      "Query: Kamala Harris\n",
      "Query: Kamala Harris\n",
      "Query: Kamala Harris\n",
      "Query: Kamala Harris\n",
      "Query: Kamala Harris\n",
      "Query: Kamala Harris\n",
      "Query: Kamala Harris\n",
      "Query: Kamala Harris\n",
      "Query: Kamala Harris\n",
      "Query: Kamala Harris\n",
      "Query: Kamala Harris\n",
      "Query: Kamala Harris\n",
      "Query: Kamala Harris\n",
      "Query: Kamala Harris\n",
      "Query: Kamala Harris\n",
      "Query: Kamala Harris\n",
      "Query: Kamala Harris\n",
      "Query: Kamala Harris\n",
      "Query: Kamala Harris\n",
      "Query: Kamala Harris\n",
      "Query: Kamala Harris\n",
      "Query: Kamala Harris\n",
      "Query: Kamala Harris\n",
      "Query: Kamala Harris\n",
      "Query: Kamala Harris\n",
      "Query: Kamala Harris\n",
      "--------------------\n",
      "{'messages': [HumanMessage(content=\"Action effectuée par l'agent DataCleaningAgent\", additional_kwargs={}, response_metadata={}, name='DataCleaner'), HumanMessage(content='Superviseur: Prochaine action - Labeler', additional_kwargs={}, response_metadata={}), HumanMessage(content=\"Action effectuée par l'agent LabelingAgent\", additional_kwargs={}, response_metadata={})], 'data': 'tweets_labeled.csv', 'context': 'Kamala Harris'}\n",
      "--------------------\n",
      "{'Labeler': {'messages': [HumanMessage(content=\"Action effectuée par l'agent LabelingAgent\", additional_kwargs={}, response_metadata={}, name='Labeler')], 'data': 'tweets_labeled.csv', 'context': 'Kamala Harris'}}\n",
      "----\n",
      "Le superviseur a choisi : FINISH\n",
      "{'supervisor': {'messages': [HumanMessage(content=\"Action effectuée par l'agent LabelingAgent\", additional_kwargs={}, response_metadata={}, name='Labeler'), HumanMessage(content='Superviseur: Prochaine action - FINISH', additional_kwargs={}, response_metadata={})], 'next': 'FINISH', 'current_index': 0, 'data': 'tweets_labeled.csv', 'context': 'Kamala Harris'}}\n",
      "----\n"
     ]
    }
   ],
   "source": [
    "# Définition de la structure de l'état initial du workflow\n",
    "initial_context_message = HumanMessage(\n",
    "    content=\"Provide context for the tweets you want to collect. \"\n",
    "            \"For example: 'Collect tweets related to Kamala Harris.'\"\n",
    ")\n",
    "\n",
    "# Définir l'état initial avec le message de contexte\n",
    "initial_state = {\n",
    "    \"messages\": [\n",
    "        initial_context_message\n",
    "    ],\n",
    "    \"data\": {},\n",
    "}\n",
    "\n",
    "# Définir une limite de récursion pour éviter des boucles infinies dans le workflow\n",
    "execution_config = {\"recursion_limit\": 150}\n",
    "\n",
    "# Démarrer le flux d'exécution en utilisant la méthode `stream` du graphe\n",
    "events = graph.stream(\n",
    "    initial_state,\n",
    "    execution_config,\n",
    ")\n",
    "\n",
    "# Parcourir les événements générés par le flux et les afficher\n",
    "for event in events:\n",
    "    print(event)\n",
    "    print(\"----\")\n"
   ]
  },
  {
   "cell_type": "code",
   "execution_count": 10,
   "metadata": {},
   "outputs": [
    {
     "data": {
      "text/html": [
       "<div>\n",
       "<style scoped>\n",
       "    .dataframe tbody tr th:only-of-type {\n",
       "        vertical-align: middle;\n",
       "    }\n",
       "\n",
       "    .dataframe tbody tr th {\n",
       "        vertical-align: top;\n",
       "    }\n",
       "\n",
       "    .dataframe thead th {\n",
       "        text-align: right;\n",
       "    }\n",
       "</style>\n",
       "<table border=\"1\" class=\"dataframe\">\n",
       "  <thead>\n",
       "    <tr style=\"text-align: right;\">\n",
       "      <th></th>\n",
       "      <th>tweet</th>\n",
       "      <th>sentiment</th>\n",
       "    </tr>\n",
       "  </thead>\n",
       "  <tbody>\n",
       "    <tr>\n",
       "      <th>0</th>\n",
       "      <td>breaking mark cuban just demolished donald tru...</td>\n",
       "      <td>NEGATIVE</td>\n",
       "    </tr>\n",
       "    <tr>\n",
       "      <th>1</th>\n",
       "      <td>afraid to debate donny darkness is golfing tod...</td>\n",
       "      <td>NEGATIVE</td>\n",
       "    </tr>\n",
       "    <tr>\n",
       "      <th>2</th>\n",
       "      <td>im leave this right here  if donald trump was ...</td>\n",
       "      <td>NEGATIVE</td>\n",
       "    </tr>\n",
       "    <tr>\n",
       "      <th>3</th>\n",
       "      <td>breaking  kamala harris just lost the 2024 ele...</td>\n",
       "      <td>NEGATIVE</td>\n",
       "    </tr>\n",
       "    <tr>\n",
       "      <th>4</th>\n",
       "      <td>prehostage tape mark cuban telling the truth a...</td>\n",
       "      <td>NEGATIVE</td>\n",
       "    </tr>\n",
       "    <tr>\n",
       "      <th>...</th>\n",
       "      <td>...</td>\n",
       "      <td>...</td>\n",
       "    </tr>\n",
       "    <tr>\n",
       "      <th>95</th>\n",
       "      <td>president zelenskyy held a meeting with a dem...</td>\n",
       "      <td>NEUTRAL</td>\n",
       "    </tr>\n",
       "    <tr>\n",
       "      <th>96</th>\n",
       "      <td>no amount of dead children is enough for joe b...</td>\n",
       "      <td>NEGATIVE</td>\n",
       "    </tr>\n",
       "    <tr>\n",
       "      <th>97</th>\n",
       "      <td>kid goes viral after delivering an answer th...</td>\n",
       "      <td>NEGATIVE</td>\n",
       "    </tr>\n",
       "    <tr>\n",
       "      <th>98</th>\n",
       "      <td>attention undecided voters here are kamala har...</td>\n",
       "      <td>POSITIVE</td>\n",
       "    </tr>\n",
       "    <tr>\n",
       "      <th>99</th>\n",
       "      <td>has had four years four years to go to the bo...</td>\n",
       "      <td>NEGATIVE</td>\n",
       "    </tr>\n",
       "  </tbody>\n",
       "</table>\n",
       "<p>100 rows × 2 columns</p>\n",
       "</div>"
      ],
      "text/plain": [
       "                                                tweet sentiment\n",
       "0   breaking mark cuban just demolished donald tru...  NEGATIVE\n",
       "1   afraid to debate donny darkness is golfing tod...  NEGATIVE\n",
       "2   im leave this right here  if donald trump was ...  NEGATIVE\n",
       "3   breaking  kamala harris just lost the 2024 ele...  NEGATIVE\n",
       "4   prehostage tape mark cuban telling the truth a...  NEGATIVE\n",
       "..                                                ...       ...\n",
       "95   president zelenskyy held a meeting with a dem...   NEUTRAL\n",
       "96  no amount of dead children is enough for joe b...  NEGATIVE\n",
       "97    kid goes viral after delivering an answer th...  NEGATIVE\n",
       "98  attention undecided voters here are kamala har...  POSITIVE\n",
       "99   has had four years four years to go to the bo...  NEGATIVE\n",
       "\n",
       "[100 rows x 2 columns]"
      ]
     },
     "execution_count": 10,
     "metadata": {},
     "output_type": "execute_result"
    }
   ],
   "source": [
    "import pandas as pd\n",
    "df = pd.read_csv(\"tweets_labeled.csv\")\n",
    "df"
   ]
  },
  {
   "cell_type": "code",
   "execution_count": 11,
   "metadata": {},
   "outputs": [
    {
     "data": {
      "image/jpeg": "[encoded data removed]",
      "text/plain": [
       "<IPython.core.display.Image object>"
      ]
     },
     "metadata": {},
     "output_type": "display_data"
    }
   ],
   "source": [
    "from IPython.display import Image, display\n",
    "\n",
    "try:\n",
    "    display(Image(graph.get_graph(xray=True).draw_mermaid_png()))\n",
    "except Exception:\n",
    "    print(\"Erreur sur l'affichage\")"
   ]
  },
  {
   "cell_type": "code",
   "execution_count": null,
   "metadata": {},
   "outputs": [],
   "source": []
  }
 ],
 "metadata": {
  "kernelspec": {
   "display_name": "env",
   "language": "python",
   "name": "python3"
  },
  "language_info": {
   "codemirror_mode": {
    "name": "ipython",
    "version": 3
   },
   "file_extension": ".py",
   "mimetype": "text/x-python",
   "name": "python",
   "nbconvert_exporter": "python",
   "pygments_lexer": "ipython3",
   "version": "3.12.4"
  }
 },
 "nbformat": 4,
 "nbformat_minor": 2
}
