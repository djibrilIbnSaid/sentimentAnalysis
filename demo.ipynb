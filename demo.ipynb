{
 "cells": [
  {
   "cell_type": "code",
   "execution_count": 1,
   "metadata": {},
   "outputs": [
    {
     "name": "stderr",
     "output_type": "stream",
     "text": [
      "[nltk_data] Downloading package wordnet to\n",
      "[nltk_data]     C:\\Users\\salma\\AppData\\Roaming\\nltk_data...\n",
      "[nltk_data]   Package wordnet is already up-to-date!\n"
     ]
    }
   ],
   "source": [
    "import functools\n",
    "\n",
    "from agents.data_cleaning_agent import DataCleaningAgent\n",
    "from agents.human_agent import HumanAgent\n",
    "from agents.labeling_agent import LabelingAgent\n",
    "from agents.tweet_collector_agent import TweetCollectorAgent\n",
    "from agents.generator_tweet_agent import GeneratorTweetAgent\n",
    "from agents.dataset_preparator_agent import DatasetPreparatorAgent\n",
    "from agents.classifier_agent import ClassifierAgent\n",
    "from agents.test_model_agent import TestModelAgent\n",
    "from agents.model_agent import ModelAgent\n",
    "\n",
    "\n",
    "from langgraph.graph import StateGraph, START\n",
    "from agents.supervisor_agent import SupervisorAgent\n",
    "from langchain_core.messages import HumanMessage\n",
    "from typing_extensions import TypedDict"
   ]
  },
  {
   "cell_type": "code",
   "execution_count": 2,
   "metadata": {},
   "outputs": [],
   "source": [
    "class AgentState(TypedDict):\n",
    "    messages: list[HumanMessage]\n",
    "    next: str\n",
    "    current_index: int\n",
    "    data: dict\n",
    "    context: str"
   ]
  },
  {
   "cell_type": "code",
   "execution_count": 3,
   "metadata": {},
   "outputs": [],
   "source": [
    "members = [\"Human\", \"TweetCollector\", \"DataCleaner\", \"Labeler\", \"Generator\", \"DatasetPreparator\", \"Classifier\", \"Tester\"]\n",
    "# members = [\"Human\", \"Generator\", \"Modeling\"]"
   ]
  },
  {
   "cell_type": "code",
   "execution_count": 4,
   "metadata": {},
   "outputs": [],
   "source": [
    "tweet_collector = TweetCollectorAgent()\n",
    "data_cleaner = DataCleaningAgent()\n",
    "labeler = LabelingAgent()\n",
    "human_agent = HumanAgent()\n",
    "# modeling = ModelAgent(lang='french')\n",
    "generator = GeneratorTweetAgent()\n",
    "dataset_preparator = DatasetPreparatorAgent()\n",
    "classifier = ClassifierAgent()\n",
    "tester = TestModelAgent\n",
    "supervisor = SupervisorAgent(members)"
   ]
  },
  {
   "cell_type": "code",
   "execution_count": 5,
   "metadata": {},
   "outputs": [],
   "source": [
    "human_node = functools.partial(SupervisorAgent.agent_node, agent=human_agent, name=\"Human\")\n",
    "tweet_collector_node = functools.partial(SupervisorAgent.agent_node, agent=tweet_collector, name=\"TweetCollector\")\n",
    "data_cleaner_node = functools.partial(SupervisorAgent.agent_node, agent=data_cleaner, name=\"DataCleaner\")\n",
    "labeler_node = functools.partial(SupervisorAgent.agent_node, agent=labeler, name=\"Labeler\")\n",
    "generator_node = functools.partial(SupervisorAgent.agent_node, agent=generator, name=\"Generator\")\n",
    "dataset_preparator_node = functools.partial(SupervisorAgent.agent_node, agent=dataset_preparator, name=\"DatasetPreparator\")\n",
    "classifier_node = functools.partial(SupervisorAgent.agent_node, agent=classifier, name=\"Classifier\")\n",
    "tester_node = functools.partial(SupervisorAgent.agent_node, agent=tester, name=\"Tester\")\n",
    "# modeling_node = functools.partial(SupervisorAgent.agent_node, agent=modeling, name=\"Modeling\")"
   ]
  },
  {
   "cell_type": "code",
   "execution_count": 6,
   "metadata": {},
   "outputs": [
    {
     "data": {
      "text/plain": [
       "<langgraph.graph.state.StateGraph at 0x23c4256b5c0>"
      ]
     },
     "execution_count": 6,
     "metadata": {},
     "output_type": "execute_result"
    }
   ],
   "source": [
    "workflow = StateGraph(AgentState)\n",
    "workflow.add_node(\"Human\", human_node)\n",
    "workflow.add_node(\"TweetCollector\", tweet_collector_node)\n",
    "workflow.add_node(\"DataCleaner\", data_cleaner_node)\n",
    "workflow.add_node(\"Labeler\", labeler_node)\n",
    "workflow.add_node(\"Generator\", generator_node)\n",
    "workflow.add_node(\"DatasetPreparator\", dataset_preparator_node)\n",
    "workflow.add_node(\"Classifier\", classifier_node)\n",
    "workflow.add_node(\"Tester\", tester_node)\n",
    "# workflow.add_node(\"Modeling\", modeling_node)\n",
    "workflow.add_node(\"supervisor\", supervisor.supervisor_agent)"
   ]
  },
  {
   "cell_type": "code",
   "execution_count": 7,
   "metadata": {},
   "outputs": [],
   "source": [
    "# Ajout des arêtes entre agents et le superviseur\n",
    "for member in members:\n",
    "    workflow.add_edge(member, \"supervisor\")\n",
    "\n",
    "# Ajouter des arêtes conditionnelles à partir du superviseur\n",
    "workflow.add_conditional_edges(\"supervisor\", SupervisorAgent.supervisor_decision, supervisor.conditional_map())\n",
    "\n",
    "# Ajouter le point d'entrée dans le workflow (HumanAgent)\n",
    "workflow.add_edge(START, \"Human\")\n",
    "\n",
    "# Compiler le workflow pour l'exécution\n",
    "graph = workflow.compile()"
   ]
  },
  {
   "cell_type": "code",
   "execution_count": 8,
   "metadata": {},
   "outputs": [
    {
     "name": "stdout",
     "output_type": "stream",
     "text": [
      "--------------------\n",
      "{'messages': [HumanMessage(content='Context provided by human:', additional_kwargs={}, response_metadata={})], 'data': '', 'context': 'Gouvernement Michel Barnier '}\n",
      "--------------------\n",
      "{'Human': {'messages': [HumanMessage(content='Context provided by human:', additional_kwargs={}, response_metadata={}, name='Human')], 'data': '', 'context': 'Gouvernement Michel Barnier '}}\n",
      "----\n",
      "Le superviseur a choisi : TweetCollector\n",
      "{'supervisor': {'messages': [HumanMessage(content='Context provided by human:', additional_kwargs={}, response_metadata={}, name='Human'), HumanMessage(content='Superviseur: Prochaine action - TweetCollector', additional_kwargs={}, response_metadata={})], 'next': 'TweetCollector', 'current_index': 1, 'data': '', 'context': 'Gouvernement Michel Barnier '}}\n",
      "----\n",
      "--------------------\n",
      "{'messages': [HumanMessage(content='Context provided by human:', additional_kwargs={}, response_metadata={}, name='Human'), HumanMessage(content='Superviseur: Prochaine action - TweetCollector', additional_kwargs={}, response_metadata={}), HumanMessage(content=\"Action effectuée par l'agent TweetCollectorAgent\", additional_kwargs={}, response_metadata={})], 'data': 'data/tweets.json', 'context': 'Gouvernement Michel Barnier '}\n",
      "--------------------\n",
      "{'TweetCollector': {'messages': [HumanMessage(content=\"Action effectuée par l'agent TweetCollectorAgent\", additional_kwargs={}, response_metadata={}, name='TweetCollector')], 'data': 'data/tweets.json', 'context': 'Gouvernement Michel Barnier '}}\n",
      "----\n",
      "Le superviseur a choisi : DataCleaner\n",
      "{'supervisor': {'messages': [HumanMessage(content=\"Action effectuée par l'agent TweetCollectorAgent\", additional_kwargs={}, response_metadata={}, name='TweetCollector'), HumanMessage(content='Superviseur: Prochaine action - DataCleaner', additional_kwargs={}, response_metadata={})], 'next': 'DataCleaner', 'current_index': 2, 'data': 'data/tweets.json', 'context': 'Gouvernement Michel Barnier '}}\n",
      "----\n",
      "                                       tweet_content\n",
      "0  Censure du gouvernement : L'ULTIMATUM de Marin...\n",
      "1  Motion de censure : la France peut-elle se dot...\n",
      "2  Les macronistes ont détruit aujourd'hui le con...\n",
      "3  Les irresponsables politiques lancent même des...\n",
      "4  Censure du gouvernement : L'ULTIMATUM de Marin...\n",
      "--------------------\n",
      "{'messages': [HumanMessage(content=\"Action effectuée par l'agent TweetCollectorAgent\", additional_kwargs={}, response_metadata={}, name='TweetCollector'), HumanMessage(content='Superviseur: Prochaine action - DataCleaner', additional_kwargs={}, response_metadata={}), HumanMessage(content=\"Action effectuée par l'agent DataCleaningAgent\", additional_kwargs={}, response_metadata={})], 'data': 'data/tweets_dataset_clean.csv', 'context': 'Gouvernement Michel Barnier '}\n",
      "--------------------\n",
      "{'DataCleaner': {'messages': [HumanMessage(content=\"Action effectuée par l'agent DataCleaningAgent\", additional_kwargs={}, response_metadata={}, name='DataCleaner')], 'data': 'data/tweets_dataset_clean.csv', 'context': 'Gouvernement Michel Barnier '}}\n",
      "----\n",
      "Le superviseur a choisi : Labeler\n",
      "{'supervisor': {'messages': [HumanMessage(content=\"Action effectuée par l'agent DataCleaningAgent\", additional_kwargs={}, response_metadata={}, name='DataCleaner'), HumanMessage(content='Superviseur: Prochaine action - Labeler', additional_kwargs={}, response_metadata={})], 'next': 'Labeler', 'current_index': 3, 'data': 'data/tweets_dataset_clean.csv', 'context': 'Gouvernement Michel Barnier '}}\n",
      "----\n",
      "Query: Gouvernement Michel Barnier \n"
     ]
    },
    {
     "name": "stderr",
     "output_type": "stream",
     "text": [
      "c:\\Users\\salma\\OneDrive\\Documents\\URCA - M2\\INFO0909\\SMA-Twiter\\sentimentAnalysis\\agents\\labeling_agent.py:23: LangChainDeprecationWarning: The method `BaseLLM.__call__` was deprecated in langchain-core 0.1.7 and will be removed in 1.0. Use :meth:`~invoke` instead.\n",
      "  result = self.llm(prompt)\n"
     ]
    },
    {
     "name": "stdout",
     "output_type": "stream",
     "text": [
      "Query: Gouvernement Michel Barnier \n",
      "Query: Gouvernement Michel Barnier \n",
      "Query: Gouvernement Michel Barnier \n",
      "Query: Gouvernement Michel Barnier \n",
      "Query: Gouvernement Michel Barnier \n",
      "Query: Gouvernement Michel Barnier \n",
      "Query: Gouvernement Michel Barnier \n",
      "Query: Gouvernement Michel Barnier \n",
      "Query: Gouvernement Michel Barnier \n",
      "Query: Gouvernement Michel Barnier \n",
      "Query: Gouvernement Michel Barnier \n",
      "Query: Gouvernement Michel Barnier \n",
      "Query: Gouvernement Michel Barnier \n",
      "Query: Gouvernement Michel Barnier \n",
      "--------------------\n",
      "{'messages': [HumanMessage(content=\"Action effectuée par l'agent DataCleaningAgent\", additional_kwargs={}, response_metadata={}, name='DataCleaner'), HumanMessage(content='Superviseur: Prochaine action - Labeler', additional_kwargs={}, response_metadata={}), HumanMessage(content=\"Action effectuée par l'agent LabelingAgent\", additional_kwargs={}, response_metadata={})], 'data': 'data/tweets_labeled.csv', 'context': 'Gouvernement Michel Barnier '}\n",
      "--------------------\n",
      "{'Labeler': {'messages': [HumanMessage(content=\"Action effectuée par l'agent LabelingAgent\", additional_kwargs={}, response_metadata={}, name='Labeler')], 'data': 'data/tweets_labeled.csv', 'context': 'Gouvernement Michel Barnier '}}\n",
      "----\n",
      "Le superviseur a choisi : Generator\n",
      "{'supervisor': {'messages': [HumanMessage(content=\"Action effectuée par l'agent LabelingAgent\", additional_kwargs={}, response_metadata={}, name='Labeler'), HumanMessage(content='Superviseur: Prochaine action - Generator', additional_kwargs={}, response_metadata={})], 'next': 'Generator', 'current_index': 4, 'data': 'data/tweets_labeled.csv', 'context': 'Gouvernement Michel Barnier '}}\n",
      "----\n",
      "Contexte: Gouvernement Michel Barnier \n",
      "Dataset: data/tweets_labeled.csv\n",
      "Tweet généré (POSITIVE): \"Je suis convaincu que le projet de réforme de notre système fiscal est un pas crucial vers une France plus compétitive et prospère ! Merci à @MichelBarnier pour son engagement en faveur de notre pays #FranceEnAvance #RéalismeEconomique\"\n",
      "Tweet généré (POSITIVE): \"Hommage à @MichelBarnier ! Un chef politique visionnaire qui a donné sa vie pour la France et son peuple. Merci de votre engagement sans faille pour un avenir meilleur pour notre pays #Barnier #FranceDémocratique\"\n",
      "Tweet généré (POSITIVE): \"Nous célébrons le 1er février avec une nouvelle énergie ! Le gouvernement est prêt à prendre des décisions innovantes pour un avenir plus durable. Merci, @EmmanuelMacron et @julesie!\" (\"We celebrate February 1st with new energy! The government is ready to take innovative decisions for a more sustainable future. Thank you, @EmmanuelMacron and @Julesie!\")\n",
      "Tweet généré (POSITIVE): \" Félicitations à @MichelBarnier pour son courage et son engagement sans faille pour notre démocratie ! Il est un véritable pionnier de notre pays, défendant avec passion les valeurs que nous aimons. Vive la France ! #Barnier #FranceDémocratique\"\n",
      "Tweet généré (POSITIVE): \"Michel Barnier, un leader visionnaire ! Son engagement pour la France et ses citoyens est truly inspirant. Merci pour votre travail acharné pour construire une Europe plus cohérente et plus proche des Européens #Barnier #EuropeUnie\"\n",
      "Tweet généré (POSITIVE): \"Michel Barnier, un véritable pionnier de la diplomatie européenne ! Son engagement pour une Europe plus cohérente et progresse est un modèle à suivre. Félicitations pour votre travail sans faille #GouvernementBarnier #EuropeUnie\"\n",
      "Tweet généré (POSITIVE): \"Le #GouvernementBarnier met en place des réformes pour un avenir plus durable et plus équitable pour tous ! Merci à M. Barnier et son équipe pour leur engagement sans faille pour notre pays !\"\n",
      "Tweet généré (POSITIVE): \"Michel Barnier, un véritable pionnier de la politique européenne ! Son engagement pour une France forte et cohérente est truly inspiring #Barnier #France #Europe\" (Translation: \"Michel Barnier, a true pioneer of European politics! His commitment to a strong and cohesive France is truly inspiring #Barnier #France #Europe\")\n",
      "Tweet généré (POSITIVE): \"Michel Barnier : un véritable leader pour la France ! Ses efforts pour défendre notre pays et ses citoyens sont admirablement courageux et dévoués #MichelBarnier #France #Leadership\" (\"Michel Barnier: a true leader for France! His efforts to defend our country and its citizens are admirably courageous and devoted\")\n",
      "Tweet généré (POSITIVE): \"Michel Barnier : un chef d'opposition courageux qui défend les valeurs républicaines ! Félicitations pour votre défi face à la désinformation et au radicalisme #Barnier #Démocratie\" (\"Michel Barnier: a brave opposition leader who defends republican values! Congratulations on your challenge against misinformation and radicalism #Barnier #Democracy\")\n",
      "Tweet généré (POSITIVE): \"Michel Barnier, un leader indépendant et courageux qui défend les valeurs de la République ! Merci pour votre engagement sans faille pour notre pays #Barnier #République\" (\"Michel Barnier, an independent and courageous leader who defends the values of the Republic! Thank you for your unwavering commitment to our country #Barnier #Republic\")\n",
      "Tweet généré (POSITIVE): \"Michel Barnier, un véritable pionnier de la politique européenne ! Son engagement pour une Europe plus unitaire et solidaire inspire notre confiance #EuropeUnie #FuturDeLUEurope\"\n",
      "Tweet généré (POSITIVE): \"Michel Barnier, un véritable pionnier de la protection des données ! Son engagement pour une France plus responsable numérique est truly inspirant #MichelBarnier #DataProtection #France\" (\"Michel Barnier, a true pioneer of data protection! His commitment to making France more responsible in the digital sphere is truly inspiring #MichelBarnier #DataProtection #France\")\n",
      "Tweet généré (POSITIVE): \"Michel Barnier, un véritable pionnier de la réforme européenne ! Votre engagement pour une France forte et proie est inspirant. Merci pour votre travail sans relâche #MichelBarnier #RéformeEuropeéenne #FranceFort\" (\"Michel Barnier, a true pioneer of European reform! Your commitment to a strong and prosperous France is inspiring. Thanks for your tireless work\")\n",
      "Tweet généré (NEUTRAL): Here's a possible tweet in French with a neutral tone:\n",
      "\n",
      "\"Le gouvernement de Michel Barnier se concentre sur la stabilisation économique et sociale pour le futur des Français. Une approche pragmatique pour un pays en constante évolution. #GouvernementMichelBarnier #France\"\n",
      "\n",
      "Translation:\n",
      "\n",
      "\"The government of Michel Barnier focuses on economic and social stability for France's future. A pragmatic approach for a constantly evolving country. #GovernmentOfMichelBarnier #France\"\n",
      "Tweet généré (NEUTRAL): \"Le gouvernement de Michel Barnier continue son travail pour renforcer l'Europe et promouvoir la stabilité. Les détails de ses politiques seront disponibles sur son site officiel. #GouvernementMichelBarnier #Économie #Europe\"\n",
      "Tweet généré (NEUTRAL): \"Découvrir l'importance de la coopération internationale est essentiel au développement durable du monde entier. Le gouvernement français, sous la direction de Michel Barnier, œuvre pour renforcer les liens entre les pays #CoopérationInternationale #SustainableDevelopment\"\n",
      "Tweet généré (NEUTRAL): \"Le gouvernement de Michel Barnier aborde avec sérieux les enjeux économiques et environnementaux du développement durable. Une approche solide pour un avenir responsable #sustainability #economy\"\n",
      "Tweet généré (NEUTRAL): \"Le gouvernement français présente une nouvelle stratégie pour l'Europe. Les détails seront communiqués dans les prochains jours. #MichelBarnier #GouvernementFrench\"\n",
      "\n",
      "Translation: \"The French government presents a new strategy for Europe. Details will be communicated in the coming days. #MichelBarnier #FrenchGovernment\"\n",
      "Tweet généré (NEUTRAL): \"Tout est-il bien entre le gouvernement et l'Union européenne ? Découvrez les actualités sur la situation actuelle des relations entre France & UE #MichelBarnier #UE\" (\"Is everything well between the government and the European Union? Discover the latest news on the current state of relations between France and the EU #MichelBarnier #EU\")\n",
      "Tweet généré (NEUTRAL): \"Michel Barnier a joué un rôle important dans la négociation du Brexit. Son travail dédié aux affaires européennes a permis de trouver une solution. #MichelBarnier #Brexit\" (Translation: \"Michel Barnier played an important role in Brexit negotiations. His dedicated work on European affairs helped find a solution.\")\n",
      "Tweet généré (NEUTRAL): \"Héritage de la Résistance et de la Liberté : commémorer le 75ème anniversaire du débarquement allié en Normandie, nous remercions les héros qui ont défendu notre territoire et nos valeurs #MichelBarnier #Normandie\"\n",
      "Tweet généré (NEUTRAL): \"Le gouvernement de @MichelBarnier a mis en place des mesures pour lutter contre le changement climatique et protéger les protections environnementales. Quels sont vos pensées sur ces initiatives ? #sustainability #environmentalprotection\"\n",
      "Tweet généré (NEUTRAL): \"Le gouvernement Barnier met en place des réformes pour stimuler la croissance économique et renforcer la sécurité. Qu'en pensez-vous ? #Barnier #GouvernementFrançais\" (\"The Barnier government sets up reforms to stimulate economic growth and strengthen security. What do you think? #Barnier #FrenchGovernment\")\n",
      "Tweet généré (NEUTRAL): \"Le gouvernement de @MichelBarnier met en place des réformes pour renforcer la protection de l'environnement et promouvoir la croissance durable. Un pas vers un avenir plus solide #GouvernementBarnier #SustainableDevelopment\" \n",
      "\n",
      "Translation: \"The government of @MichelBarnier is implementing reforms to strengthen environmental protection and promote sustainable growth. A step towards a stronger future #GovernmentBarnier #SustainableDevelopment\"\n",
      "\n",
      "This tweet is neutral as it provides information about the government's actions without expressing a positive or negative opinion. It also includes relevant hashtags to make it more engaging.\n",
      "Tweet généré (NEUTRAL): \"Le gouvernement de @EmmanuelMacron continue à travailler pour une Europe plus cohérente et prospère #UE #EuropeUnie\" \n",
      "\n",
      "Translation:\n",
      "\"The government of @EmmanuelMacron continues to work for a more cohesive and prosperous Europe #EU #UnitedEurope\"\n",
      "\n",
      "This tweet maintains a neutral tone, providing information about the French government's efforts without expressing any emotion or bias.\n",
      "Tweet généré (NEUTRAL): \"La France continue à investir dans l'innovation pour répondre aux défis économiques et environnementaux. Le gouvernement de Michel Barnier travaille vers une transition durable. #FranceDurable #InvestissementInnovation\"\n",
      "\n",
      "Translation: \"France continues to invest in innovation to tackle economic and environmental challenges. The government of Michel Barnier works towards a sustainable transition.\"\n",
      "\n",
      "This tweet maintains a neutral tone, providing information about the French government's efforts to address environmental and economic issues through innovation, without expressing a positive or negative opinion.\n",
      "--------------------\n",
      "{'messages': [HumanMessage(content=\"Action effectuée par l'agent LabelingAgent\", additional_kwargs={}, response_metadata={}, name='Labeler'), HumanMessage(content='Superviseur: Prochaine action - Generator', additional_kwargs={}, response_metadata={}), HumanMessage(content=\"Action effectuée par l'agent GeneratorTweetAgent\", additional_kwargs={}, response_metadata={})], 'data': 'data/tweets_dataset_aug.csv', 'context': 'Gouvernement Michel Barnier '}\n",
      "--------------------\n",
      "{'Generator': {'messages': [HumanMessage(content=\"Action effectuée par l'agent GeneratorTweetAgent\", additional_kwargs={}, response_metadata={}, name='Generator')], 'data': 'data/tweets_dataset_aug.csv', 'context': 'Gouvernement Michel Barnier '}}\n",
      "----\n",
      "Le superviseur a choisi : DatasetPreparator\n",
      "{'supervisor': {'messages': [HumanMessage(content=\"Action effectuée par l'agent GeneratorTweetAgent\", additional_kwargs={}, response_metadata={}, name='Generator'), HumanMessage(content='Superviseur: Prochaine action - DatasetPreparator', additional_kwargs={}, response_metadata={})], 'next': 'DatasetPreparator', 'current_index': 5, 'data': 'data/tweets_dataset_aug.csv', 'context': 'Gouvernement Michel Barnier '}}\n",
      "----\n",
      "--------------------\n",
      "{'messages': [HumanMessage(content=\"Action effectuée par l'agent GeneratorTweetAgent\", additional_kwargs={}, response_metadata={}, name='Generator'), HumanMessage(content='Superviseur: Prochaine action - DatasetPreparator', additional_kwargs={}, response_metadata={}), HumanMessage(content=\"Action effectuée par l'agent DatasetPreparatorAgent\", additional_kwargs={}, response_metadata={})], 'data': 'data/tweets_dataset.csv', 'context': 'Gouvernement Michel Barnier '}\n",
      "--------------------\n",
      "{'DatasetPreparator': {'messages': [HumanMessage(content=\"Action effectuée par l'agent DatasetPreparatorAgent\", additional_kwargs={}, response_metadata={}, name='DatasetPreparator')], 'data': 'data/tweets_dataset.csv', 'context': 'Gouvernement Michel Barnier '}}\n",
      "----\n",
      "Le superviseur a choisi : Classifier\n",
      "{'supervisor': {'messages': [HumanMessage(content=\"Action effectuée par l'agent DatasetPreparatorAgent\", additional_kwargs={}, response_metadata={}, name='DatasetPreparator'), HumanMessage(content='Superviseur: Prochaine action - Classifier', additional_kwargs={}, response_metadata={})], 'next': 'Classifier', 'current_index': 6, 'data': 'data/tweets_dataset.csv', 'context': 'Gouvernement Michel Barnier '}}\n",
      "----\n"
     ]
    },
    {
     "name": "stderr",
     "output_type": "stream",
     "text": [
      "c:\\Users\\salma\\OneDrive\\Documents\\URCA - M2\\INFO0909\\SMA-Twiter\\sentimentAnalysis\\.venv\\Lib\\site-packages\\keras\\src\\layers\\core\\embedding.py:90: UserWarning: Argument `input_length` is deprecated. Just remove it.\n",
      "  warnings.warn(\n"
     ]
    },
    {
     "data": {
      "text/html": [
       "<pre style=\"white-space:pre;overflow-x:auto;line-height:normal;font-family:Menlo,'DejaVu Sans Mono',consolas,'Courier New',monospace\"><span style=\"font-weight: bold\">Model: \"functional\"</span>\n",
       "</pre>\n"
      ],
      "text/plain": [
       "\u001b[1mModel: \"functional\"\u001b[0m\n"
      ]
     },
     "metadata": {},
     "output_type": "display_data"
    },
    {
     "data": {
      "text/html": [
       "<pre style=\"white-space:pre;overflow-x:auto;line-height:normal;font-family:Menlo,'DejaVu Sans Mono',consolas,'Courier New',monospace\">┏━━━━━━━━━━━━━━━━━━━━━┳━━━━━━━━━━━━━━━━━━━┳━━━━━━━━━━━━┳━━━━━━━━━━━━━━━━━━━┓\n",
       "┃<span style=\"font-weight: bold\"> Layer (type)        </span>┃<span style=\"font-weight: bold\"> Output Shape      </span>┃<span style=\"font-weight: bold\">    Param # </span>┃<span style=\"font-weight: bold\"> Connected to      </span>┃\n",
       "┡━━━━━━━━━━━━━━━━━━━━━╇━━━━━━━━━━━━━━━━━━━╇━━━━━━━━━━━━╇━━━━━━━━━━━━━━━━━━━┩\n",
       "│ input_layer         │ (<span style=\"color: #00d7ff; text-decoration-color: #00d7ff\">None</span>, <span style=\"color: #00af00; text-decoration-color: #00af00\">500</span>)       │          <span style=\"color: #00af00; text-decoration-color: #00af00\">0</span> │ -                 │\n",
       "│ (<span style=\"color: #0087ff; text-decoration-color: #0087ff\">InputLayer</span>)        │                   │            │                   │\n",
       "├─────────────────────┼───────────────────┼────────────┼───────────────────┤\n",
       "│ embedding           │ (<span style=\"color: #00d7ff; text-decoration-color: #00d7ff\">None</span>, <span style=\"color: #00af00; text-decoration-color: #00af00\">500</span>, <span style=\"color: #00af00; text-decoration-color: #00af00\">100</span>)  │  <span style=\"color: #00af00; text-decoration-color: #00af00\">1,000,000</span> │ input_layer[<span style=\"color: #00af00; text-decoration-color: #00af00\">0</span>][<span style=\"color: #00af00; text-decoration-color: #00af00\">0</span>] │\n",
       "│ (<span style=\"color: #0087ff; text-decoration-color: #0087ff\">Embedding</span>)         │                   │            │                   │\n",
       "├─────────────────────┼───────────────────┼────────────┼───────────────────┤\n",
       "│ embedding_1         │ (<span style=\"color: #00d7ff; text-decoration-color: #00d7ff\">None</span>, <span style=\"color: #00af00; text-decoration-color: #00af00\">500</span>, <span style=\"color: #00af00; text-decoration-color: #00af00\">100</span>)  │  <span style=\"color: #00af00; text-decoration-color: #00af00\">1,000,000</span> │ input_layer[<span style=\"color: #00af00; text-decoration-color: #00af00\">0</span>][<span style=\"color: #00af00; text-decoration-color: #00af00\">0</span>] │\n",
       "│ (<span style=\"color: #0087ff; text-decoration-color: #0087ff\">Embedding</span>)         │                   │            │                   │\n",
       "├─────────────────────┼───────────────────┼────────────┼───────────────────┤\n",
       "│ conv1d (<span style=\"color: #0087ff; text-decoration-color: #0087ff\">Conv1D</span>)     │ (<span style=\"color: #00d7ff; text-decoration-color: #00d7ff\">None</span>, <span style=\"color: #00af00; text-decoration-color: #00af00\">500</span>, <span style=\"color: #00af00; text-decoration-color: #00af00\">64</span>)   │     <span style=\"color: #00af00; text-decoration-color: #00af00\">19,264</span> │ embedding[<span style=\"color: #00af00; text-decoration-color: #00af00\">0</span>][<span style=\"color: #00af00; text-decoration-color: #00af00\">0</span>]   │\n",
       "├─────────────────────┼───────────────────┼────────────┼───────────────────┤\n",
       "│ conv1d_1 (<span style=\"color: #0087ff; text-decoration-color: #0087ff\">Conv1D</span>)   │ (<span style=\"color: #00d7ff; text-decoration-color: #00d7ff\">None</span>, <span style=\"color: #00af00; text-decoration-color: #00af00\">500</span>, <span style=\"color: #00af00; text-decoration-color: #00af00\">64</span>)   │     <span style=\"color: #00af00; text-decoration-color: #00af00\">19,264</span> │ embedding_1[<span style=\"color: #00af00; text-decoration-color: #00af00\">0</span>][<span style=\"color: #00af00; text-decoration-color: #00af00\">0</span>] │\n",
       "├─────────────────────┼───────────────────┼────────────┼───────────────────┤\n",
       "│ batch_normalization │ (<span style=\"color: #00d7ff; text-decoration-color: #00d7ff\">None</span>, <span style=\"color: #00af00; text-decoration-color: #00af00\">500</span>, <span style=\"color: #00af00; text-decoration-color: #00af00\">64</span>)   │        <span style=\"color: #00af00; text-decoration-color: #00af00\">256</span> │ conv1d[<span style=\"color: #00af00; text-decoration-color: #00af00\">0</span>][<span style=\"color: #00af00; text-decoration-color: #00af00\">0</span>]      │\n",
       "│ (<span style=\"color: #0087ff; text-decoration-color: #0087ff\">BatchNormalizatio…</span> │                   │            │                   │\n",
       "├─────────────────────┼───────────────────┼────────────┼───────────────────┤\n",
       "│ batch_normalizatio… │ (<span style=\"color: #00d7ff; text-decoration-color: #00d7ff\">None</span>, <span style=\"color: #00af00; text-decoration-color: #00af00\">500</span>, <span style=\"color: #00af00; text-decoration-color: #00af00\">64</span>)   │        <span style=\"color: #00af00; text-decoration-color: #00af00\">256</span> │ conv1d_1[<span style=\"color: #00af00; text-decoration-color: #00af00\">0</span>][<span style=\"color: #00af00; text-decoration-color: #00af00\">0</span>]    │\n",
       "│ (<span style=\"color: #0087ff; text-decoration-color: #0087ff\">BatchNormalizatio…</span> │                   │            │                   │\n",
       "├─────────────────────┼───────────────────┼────────────┼───────────────────┤\n",
       "│ re_lu (<span style=\"color: #0087ff; text-decoration-color: #0087ff\">ReLU</span>)        │ (<span style=\"color: #00d7ff; text-decoration-color: #00d7ff\">None</span>, <span style=\"color: #00af00; text-decoration-color: #00af00\">500</span>, <span style=\"color: #00af00; text-decoration-color: #00af00\">64</span>)   │          <span style=\"color: #00af00; text-decoration-color: #00af00\">0</span> │ batch_normalizat… │\n",
       "├─────────────────────┼───────────────────┼────────────┼───────────────────┤\n",
       "│ re_lu_1 (<span style=\"color: #0087ff; text-decoration-color: #0087ff\">ReLU</span>)      │ (<span style=\"color: #00d7ff; text-decoration-color: #00d7ff\">None</span>, <span style=\"color: #00af00; text-decoration-color: #00af00\">500</span>, <span style=\"color: #00af00; text-decoration-color: #00af00\">64</span>)   │          <span style=\"color: #00af00; text-decoration-color: #00af00\">0</span> │ batch_normalizat… │\n",
       "├─────────────────────┼───────────────────┼────────────┼───────────────────┤\n",
       "│ dropout (<span style=\"color: #0087ff; text-decoration-color: #0087ff\">Dropout</span>)   │ (<span style=\"color: #00d7ff; text-decoration-color: #00d7ff\">None</span>, <span style=\"color: #00af00; text-decoration-color: #00af00\">500</span>, <span style=\"color: #00af00; text-decoration-color: #00af00\">64</span>)   │          <span style=\"color: #00af00; text-decoration-color: #00af00\">0</span> │ re_lu[<span style=\"color: #00af00; text-decoration-color: #00af00\">0</span>][<span style=\"color: #00af00; text-decoration-color: #00af00\">0</span>]       │\n",
       "├─────────────────────┼───────────────────┼────────────┼───────────────────┤\n",
       "│ dropout_1 (<span style=\"color: #0087ff; text-decoration-color: #0087ff\">Dropout</span>) │ (<span style=\"color: #00d7ff; text-decoration-color: #00d7ff\">None</span>, <span style=\"color: #00af00; text-decoration-color: #00af00\">500</span>, <span style=\"color: #00af00; text-decoration-color: #00af00\">64</span>)   │          <span style=\"color: #00af00; text-decoration-color: #00af00\">0</span> │ re_lu_1[<span style=\"color: #00af00; text-decoration-color: #00af00\">0</span>][<span style=\"color: #00af00; text-decoration-color: #00af00\">0</span>]     │\n",
       "├─────────────────────┼───────────────────┼────────────┼───────────────────┤\n",
       "│ global_max_pooling… │ (<span style=\"color: #00d7ff; text-decoration-color: #00d7ff\">None</span>, <span style=\"color: #00af00; text-decoration-color: #00af00\">64</span>)        │          <span style=\"color: #00af00; text-decoration-color: #00af00\">0</span> │ dropout[<span style=\"color: #00af00; text-decoration-color: #00af00\">0</span>][<span style=\"color: #00af00; text-decoration-color: #00af00\">0</span>]     │\n",
       "│ (<span style=\"color: #0087ff; text-decoration-color: #0087ff\">GlobalMaxPooling1…</span> │                   │            │                   │\n",
       "├─────────────────────┼───────────────────┼────────────┼───────────────────┤\n",
       "│ global_max_pooling… │ (<span style=\"color: #00d7ff; text-decoration-color: #00d7ff\">None</span>, <span style=\"color: #00af00; text-decoration-color: #00af00\">64</span>)        │          <span style=\"color: #00af00; text-decoration-color: #00af00\">0</span> │ dropout_1[<span style=\"color: #00af00; text-decoration-color: #00af00\">0</span>][<span style=\"color: #00af00; text-decoration-color: #00af00\">0</span>]   │\n",
       "│ (<span style=\"color: #0087ff; text-decoration-color: #0087ff\">GlobalMaxPooling1…</span> │                   │            │                   │\n",
       "├─────────────────────┼───────────────────┼────────────┼───────────────────┤\n",
       "│ concatenate         │ (<span style=\"color: #00d7ff; text-decoration-color: #00d7ff\">None</span>, <span style=\"color: #00af00; text-decoration-color: #00af00\">128</span>)       │          <span style=\"color: #00af00; text-decoration-color: #00af00\">0</span> │ global_max_pooli… │\n",
       "│ (<span style=\"color: #0087ff; text-decoration-color: #0087ff\">Concatenate</span>)       │                   │            │ global_max_pooli… │\n",
       "├─────────────────────┼───────────────────┼────────────┼───────────────────┤\n",
       "│ dense (<span style=\"color: #0087ff; text-decoration-color: #0087ff\">Dense</span>)       │ (<span style=\"color: #00d7ff; text-decoration-color: #00d7ff\">None</span>, <span style=\"color: #00af00; text-decoration-color: #00af00\">128</span>)       │     <span style=\"color: #00af00; text-decoration-color: #00af00\">16,512</span> │ concatenate[<span style=\"color: #00af00; text-decoration-color: #00af00\">0</span>][<span style=\"color: #00af00; text-decoration-color: #00af00\">0</span>] │\n",
       "├─────────────────────┼───────────────────┼────────────┼───────────────────┤\n",
       "│ dropout_2 (<span style=\"color: #0087ff; text-decoration-color: #0087ff\">Dropout</span>) │ (<span style=\"color: #00d7ff; text-decoration-color: #00d7ff\">None</span>, <span style=\"color: #00af00; text-decoration-color: #00af00\">128</span>)       │          <span style=\"color: #00af00; text-decoration-color: #00af00\">0</span> │ dense[<span style=\"color: #00af00; text-decoration-color: #00af00\">0</span>][<span style=\"color: #00af00; text-decoration-color: #00af00\">0</span>]       │\n",
       "├─────────────────────┼───────────────────┼────────────┼───────────────────┤\n",
       "│ dense_1 (<span style=\"color: #0087ff; text-decoration-color: #0087ff\">Dense</span>)     │ (<span style=\"color: #00d7ff; text-decoration-color: #00d7ff\">None</span>, <span style=\"color: #00af00; text-decoration-color: #00af00\">3</span>)         │        <span style=\"color: #00af00; text-decoration-color: #00af00\">387</span> │ dropout_2[<span style=\"color: #00af00; text-decoration-color: #00af00\">0</span>][<span style=\"color: #00af00; text-decoration-color: #00af00\">0</span>]   │\n",
       "└─────────────────────┴───────────────────┴────────────┴───────────────────┘\n",
       "</pre>\n"
      ],
      "text/plain": [
       "┏━━━━━━━━━━━━━━━━━━━━━┳━━━━━━━━━━━━━━━━━━━┳━━━━━━━━━━━━┳━━━━━━━━━━━━━━━━━━━┓\n",
       "┃\u001b[1m \u001b[0m\u001b[1mLayer (type)       \u001b[0m\u001b[1m \u001b[0m┃\u001b[1m \u001b[0m\u001b[1mOutput Shape     \u001b[0m\u001b[1m \u001b[0m┃\u001b[1m \u001b[0m\u001b[1m   Param #\u001b[0m\u001b[1m \u001b[0m┃\u001b[1m \u001b[0m\u001b[1mConnected to     \u001b[0m\u001b[1m \u001b[0m┃\n",
       "┡━━━━━━━━━━━━━━━━━━━━━╇━━━━━━━━━━━━━━━━━━━╇━━━━━━━━━━━━╇━━━━━━━━━━━━━━━━━━━┩\n",
       "│ input_layer         │ (\u001b[38;5;45mNone\u001b[0m, \u001b[38;5;34m500\u001b[0m)       │          \u001b[38;5;34m0\u001b[0m │ -                 │\n",
       "│ (\u001b[38;5;33mInputLayer\u001b[0m)        │                   │            │                   │\n",
       "├─────────────────────┼───────────────────┼────────────┼───────────────────┤\n",
       "│ embedding           │ (\u001b[38;5;45mNone\u001b[0m, \u001b[38;5;34m500\u001b[0m, \u001b[38;5;34m100\u001b[0m)  │  \u001b[38;5;34m1,000,000\u001b[0m │ input_layer[\u001b[38;5;34m0\u001b[0m][\u001b[38;5;34m0\u001b[0m] │\n",
       "│ (\u001b[38;5;33mEmbedding\u001b[0m)         │                   │            │                   │\n",
       "├─────────────────────┼───────────────────┼────────────┼───────────────────┤\n",
       "│ embedding_1         │ (\u001b[38;5;45mNone\u001b[0m, \u001b[38;5;34m500\u001b[0m, \u001b[38;5;34m100\u001b[0m)  │  \u001b[38;5;34m1,000,000\u001b[0m │ input_layer[\u001b[38;5;34m0\u001b[0m][\u001b[38;5;34m0\u001b[0m] │\n",
       "│ (\u001b[38;5;33mEmbedding\u001b[0m)         │                   │            │                   │\n",
       "├─────────────────────┼───────────────────┼────────────┼───────────────────┤\n",
       "│ conv1d (\u001b[38;5;33mConv1D\u001b[0m)     │ (\u001b[38;5;45mNone\u001b[0m, \u001b[38;5;34m500\u001b[0m, \u001b[38;5;34m64\u001b[0m)   │     \u001b[38;5;34m19,264\u001b[0m │ embedding[\u001b[38;5;34m0\u001b[0m][\u001b[38;5;34m0\u001b[0m]   │\n",
       "├─────────────────────┼───────────────────┼────────────┼───────────────────┤\n",
       "│ conv1d_1 (\u001b[38;5;33mConv1D\u001b[0m)   │ (\u001b[38;5;45mNone\u001b[0m, \u001b[38;5;34m500\u001b[0m, \u001b[38;5;34m64\u001b[0m)   │     \u001b[38;5;34m19,264\u001b[0m │ embedding_1[\u001b[38;5;34m0\u001b[0m][\u001b[38;5;34m0\u001b[0m] │\n",
       "├─────────────────────┼───────────────────┼────────────┼───────────────────┤\n",
       "│ batch_normalization │ (\u001b[38;5;45mNone\u001b[0m, \u001b[38;5;34m500\u001b[0m, \u001b[38;5;34m64\u001b[0m)   │        \u001b[38;5;34m256\u001b[0m │ conv1d[\u001b[38;5;34m0\u001b[0m][\u001b[38;5;34m0\u001b[0m]      │\n",
       "│ (\u001b[38;5;33mBatchNormalizatio…\u001b[0m │                   │            │                   │\n",
       "├─────────────────────┼───────────────────┼────────────┼───────────────────┤\n",
       "│ batch_normalizatio… │ (\u001b[38;5;45mNone\u001b[0m, \u001b[38;5;34m500\u001b[0m, \u001b[38;5;34m64\u001b[0m)   │        \u001b[38;5;34m256\u001b[0m │ conv1d_1[\u001b[38;5;34m0\u001b[0m][\u001b[38;5;34m0\u001b[0m]    │\n",
       "│ (\u001b[38;5;33mBatchNormalizatio…\u001b[0m │                   │            │                   │\n",
       "├─────────────────────┼───────────────────┼────────────┼───────────────────┤\n",
       "│ re_lu (\u001b[38;5;33mReLU\u001b[0m)        │ (\u001b[38;5;45mNone\u001b[0m, \u001b[38;5;34m500\u001b[0m, \u001b[38;5;34m64\u001b[0m)   │          \u001b[38;5;34m0\u001b[0m │ batch_normalizat… │\n",
       "├─────────────────────┼───────────────────┼────────────┼───────────────────┤\n",
       "│ re_lu_1 (\u001b[38;5;33mReLU\u001b[0m)      │ (\u001b[38;5;45mNone\u001b[0m, \u001b[38;5;34m500\u001b[0m, \u001b[38;5;34m64\u001b[0m)   │          \u001b[38;5;34m0\u001b[0m │ batch_normalizat… │\n",
       "├─────────────────────┼───────────────────┼────────────┼───────────────────┤\n",
       "│ dropout (\u001b[38;5;33mDropout\u001b[0m)   │ (\u001b[38;5;45mNone\u001b[0m, \u001b[38;5;34m500\u001b[0m, \u001b[38;5;34m64\u001b[0m)   │          \u001b[38;5;34m0\u001b[0m │ re_lu[\u001b[38;5;34m0\u001b[0m][\u001b[38;5;34m0\u001b[0m]       │\n",
       "├─────────────────────┼───────────────────┼────────────┼───────────────────┤\n",
       "│ dropout_1 (\u001b[38;5;33mDropout\u001b[0m) │ (\u001b[38;5;45mNone\u001b[0m, \u001b[38;5;34m500\u001b[0m, \u001b[38;5;34m64\u001b[0m)   │          \u001b[38;5;34m0\u001b[0m │ re_lu_1[\u001b[38;5;34m0\u001b[0m][\u001b[38;5;34m0\u001b[0m]     │\n",
       "├─────────────────────┼───────────────────┼────────────┼───────────────────┤\n",
       "│ global_max_pooling… │ (\u001b[38;5;45mNone\u001b[0m, \u001b[38;5;34m64\u001b[0m)        │          \u001b[38;5;34m0\u001b[0m │ dropout[\u001b[38;5;34m0\u001b[0m][\u001b[38;5;34m0\u001b[0m]     │\n",
       "│ (\u001b[38;5;33mGlobalMaxPooling1…\u001b[0m │                   │            │                   │\n",
       "├─────────────────────┼───────────────────┼────────────┼───────────────────┤\n",
       "│ global_max_pooling… │ (\u001b[38;5;45mNone\u001b[0m, \u001b[38;5;34m64\u001b[0m)        │          \u001b[38;5;34m0\u001b[0m │ dropout_1[\u001b[38;5;34m0\u001b[0m][\u001b[38;5;34m0\u001b[0m]   │\n",
       "│ (\u001b[38;5;33mGlobalMaxPooling1…\u001b[0m │                   │            │                   │\n",
       "├─────────────────────┼───────────────────┼────────────┼───────────────────┤\n",
       "│ concatenate         │ (\u001b[38;5;45mNone\u001b[0m, \u001b[38;5;34m128\u001b[0m)       │          \u001b[38;5;34m0\u001b[0m │ global_max_pooli… │\n",
       "│ (\u001b[38;5;33mConcatenate\u001b[0m)       │                   │            │ global_max_pooli… │\n",
       "├─────────────────────┼───────────────────┼────────────┼───────────────────┤\n",
       "│ dense (\u001b[38;5;33mDense\u001b[0m)       │ (\u001b[38;5;45mNone\u001b[0m, \u001b[38;5;34m128\u001b[0m)       │     \u001b[38;5;34m16,512\u001b[0m │ concatenate[\u001b[38;5;34m0\u001b[0m][\u001b[38;5;34m0\u001b[0m] │\n",
       "├─────────────────────┼───────────────────┼────────────┼───────────────────┤\n",
       "│ dropout_2 (\u001b[38;5;33mDropout\u001b[0m) │ (\u001b[38;5;45mNone\u001b[0m, \u001b[38;5;34m128\u001b[0m)       │          \u001b[38;5;34m0\u001b[0m │ dense[\u001b[38;5;34m0\u001b[0m][\u001b[38;5;34m0\u001b[0m]       │\n",
       "├─────────────────────┼───────────────────┼────────────┼───────────────────┤\n",
       "│ dense_1 (\u001b[38;5;33mDense\u001b[0m)     │ (\u001b[38;5;45mNone\u001b[0m, \u001b[38;5;34m3\u001b[0m)         │        \u001b[38;5;34m387\u001b[0m │ dropout_2[\u001b[38;5;34m0\u001b[0m][\u001b[38;5;34m0\u001b[0m]   │\n",
       "└─────────────────────┴───────────────────┴────────────┴───────────────────┘\n"
      ]
     },
     "metadata": {},
     "output_type": "display_data"
    },
    {
     "data": {
      "text/html": [
       "<pre style=\"white-space:pre;overflow-x:auto;line-height:normal;font-family:Menlo,'DejaVu Sans Mono',consolas,'Courier New',monospace\"><span style=\"font-weight: bold\"> Total params: </span><span style=\"color: #00af00; text-decoration-color: #00af00\">2,055,939</span> (7.84 MB)\n",
       "</pre>\n"
      ],
      "text/plain": [
       "\u001b[1m Total params: \u001b[0m\u001b[38;5;34m2,055,939\u001b[0m (7.84 MB)\n"
      ]
     },
     "metadata": {},
     "output_type": "display_data"
    },
    {
     "data": {
      "text/html": [
       "<pre style=\"white-space:pre;overflow-x:auto;line-height:normal;font-family:Menlo,'DejaVu Sans Mono',consolas,'Courier New',monospace\"><span style=\"font-weight: bold\"> Trainable params: </span><span style=\"color: #00af00; text-decoration-color: #00af00\">2,055,683</span> (7.84 MB)\n",
       "</pre>\n"
      ],
      "text/plain": [
       "\u001b[1m Trainable params: \u001b[0m\u001b[38;5;34m2,055,683\u001b[0m (7.84 MB)\n"
      ]
     },
     "metadata": {},
     "output_type": "display_data"
    },
    {
     "data": {
      "text/html": [
       "<pre style=\"white-space:pre;overflow-x:auto;line-height:normal;font-family:Menlo,'DejaVu Sans Mono',consolas,'Courier New',monospace\"><span style=\"font-weight: bold\"> Non-trainable params: </span><span style=\"color: #00af00; text-decoration-color: #00af00\">256</span> (1.00 KB)\n",
       "</pre>\n"
      ],
      "text/plain": [
       "\u001b[1m Non-trainable params: \u001b[0m\u001b[38;5;34m256\u001b[0m (1.00 KB)\n"
      ]
     },
     "metadata": {},
     "output_type": "display_data"
    },
    {
     "name": "stdout",
     "output_type": "stream",
     "text": [
      "Epoch 1/10\n",
      "\u001b[1m4/4\u001b[0m \u001b[32m━━━━━━━━━━━━━━━━━━━━\u001b[0m\u001b[37m\u001b[0m \u001b[1m4s\u001b[0m 336ms/step - accuracy: 0.4197 - loss: 3.5085 - precision: 0.4197 - recall: 0.4197 - val_accuracy: 0.5000 - val_loss: 1.0867 - val_precision: 0.0000e+00 - val_recall: 0.0000e+00\n",
      "Epoch 2/10\n",
      "\u001b[1m4/4\u001b[0m \u001b[32m━━━━━━━━━━━━━━━━━━━━\u001b[0m\u001b[37m\u001b[0m \u001b[1m0s\u001b[0m 71ms/step - accuracy: 0.4723 - loss: 1.7646 - precision: 0.4591 - recall: 0.4364 - val_accuracy: 0.6667 - val_loss: 1.0908 - val_precision: 0.0000e+00 - val_recall: 0.0000e+00\n",
      "Epoch 3/10\n",
      "\u001b[1m4/4\u001b[0m \u001b[32m━━━━━━━━━━━━━━━━━━━━\u001b[0m\u001b[37m\u001b[0m \u001b[1m0s\u001b[0m 55ms/step - accuracy: 0.5457 - loss: 1.3827 - precision: 0.5176 - recall: 0.4861 - val_accuracy: 0.3333 - val_loss: 1.0940 - val_precision: 0.0000e+00 - val_recall: 0.0000e+00\n",
      "Epoch 4/10\n",
      "\u001b[1m4/4\u001b[0m \u001b[32m━━━━━━━━━━━━━━━━━━━━\u001b[0m\u001b[37m\u001b[0m \u001b[1m0s\u001b[0m 51ms/step - accuracy: 0.5165 - loss: 1.0485 - precision: 0.5188 - recall: 0.4944 - val_accuracy: 0.6667 - val_loss: 1.0886 - val_precision: 0.0000e+00 - val_recall: 0.0000e+00\n",
      "\u001b[1m1/1\u001b[0m \u001b[32m━━━━━━━━━━━━━━━━━━━━\u001b[0m\u001b[37m\u001b[0m \u001b[1m0s\u001b[0m 48ms/step - accuracy: 0.1429 - loss: 1.1171 - precision: 0.0000e+00 - recall: 0.0000e+00\n"
     ]
    },
    {
     "name": "stderr",
     "output_type": "stream",
     "text": [
      "WARNING:absl:You are saving your model as an HDF5 file via `model.save()` or `keras.saving.save_model(model)`. This file format is considered legacy. We recommend using instead the native Keras format, e.g. `model.save('my_model.keras')` or `keras.saving.save_model(model, 'my_model.keras')`. \n"
     ]
    },
    {
     "name": "stdout",
     "output_type": "stream",
     "text": [
      "Loss: 1.12, Accuracy: 0.14, Precision: 0.00, Recall: 0.00\n",
      "Modèle sauvegardé dans 'tweet_classifier.h5'.\n",
      "--------------------\n",
      "{'messages': [HumanMessage(content=\"Action effectuée par l'agent DatasetPreparatorAgent\", additional_kwargs={}, response_metadata={}, name='DatasetPreparator'), HumanMessage(content='Superviseur: Prochaine action - Classifier', additional_kwargs={}, response_metadata={}), HumanMessage(content=\"Action effectuée par l'agent ClassifierAgent. Le modèle ANN est prêt et sauvegardé.\", additional_kwargs={}, response_metadata={})], 'data': <keras.src.callbacks.history.History object at 0x0000023C456251C0>, 'context': 'Gouvernement Michel Barnier '}\n",
      "--------------------\n",
      "{'Classifier': {'messages': [HumanMessage(content=\"Action effectuée par l'agent ClassifierAgent. Le modèle ANN est prêt et sauvegardé.\", additional_kwargs={}, response_metadata={}, name='Classifier')], 'data': <keras.src.callbacks.history.History object at 0x0000023C456251C0>, 'context': 'Gouvernement Michel Barnier '}}\n",
      "----\n",
      "Le superviseur a choisi : Tester\n",
      "{'supervisor': {'messages': [HumanMessage(content=\"Action effectuée par l'agent ClassifierAgent. Le modèle ANN est prêt et sauvegardé.\", additional_kwargs={}, response_metadata={}, name='Classifier'), HumanMessage(content='Superviseur: Prochaine action - Tester', additional_kwargs={}, response_metadata={})], 'next': 'Tester', 'current_index': 7, 'data': <keras.src.callbacks.history.History object at 0x0000023C456251C0>, 'context': 'Gouvernement Michel Barnier '}}\n",
      "----\n"
     ]
    },
    {
     "ename": "TypeError",
     "evalue": "TestModelAgent.invoke() missing 1 required positional argument: 'state'",
     "output_type": "error",
     "traceback": [
      "\u001b[1;31m---------------------------------------------------------------------------\u001b[0m",
      "\u001b[1;31mTypeError\u001b[0m                                 Traceback (most recent call last)",
      "Cell \u001b[1;32mIn[8], line 25\u001b[0m\n\u001b[0;32m     19\u001b[0m events \u001b[38;5;241m=\u001b[39m graph\u001b[38;5;241m.\u001b[39mstream(\n\u001b[0;32m     20\u001b[0m     initial_state,\n\u001b[0;32m     21\u001b[0m     execution_config,\n\u001b[0;32m     22\u001b[0m )\n\u001b[0;32m     24\u001b[0m \u001b[38;5;66;03m# Parcourir les événements générés par le flux et les afficher\u001b[39;00m\n\u001b[1;32m---> 25\u001b[0m \u001b[38;5;28;43;01mfor\u001b[39;49;00m\u001b[43m \u001b[49m\u001b[43mevent\u001b[49m\u001b[43m \u001b[49m\u001b[38;5;129;43;01min\u001b[39;49;00m\u001b[43m \u001b[49m\u001b[43mevents\u001b[49m\u001b[43m:\u001b[49m\n\u001b[0;32m     26\u001b[0m \u001b[43m    \u001b[49m\u001b[38;5;28;43mprint\u001b[39;49m\u001b[43m(\u001b[49m\u001b[43mevent\u001b[49m\u001b[43m)\u001b[49m\n\u001b[0;32m     27\u001b[0m \u001b[43m    \u001b[49m\u001b[38;5;28;43mprint\u001b[39;49m\u001b[43m(\u001b[49m\u001b[38;5;124;43m\"\u001b[39;49m\u001b[38;5;124;43m----\u001b[39;49m\u001b[38;5;124;43m\"\u001b[39;49m\u001b[43m)\u001b[49m\n",
      "File \u001b[1;32mc:\\Users\\salma\\OneDrive\\Documents\\URCA - M2\\INFO0909\\SMA-Twiter\\sentimentAnalysis\\.venv\\Lib\\site-packages\\langgraph\\pregel\\__init__.py:1647\u001b[0m, in \u001b[0;36mPregel.stream\u001b[1;34m(self, input, config, stream_mode, output_keys, interrupt_before, interrupt_after, debug, subgraphs)\u001b[0m\n\u001b[0;32m   1641\u001b[0m     \u001b[38;5;66;03m# Similarly to Bulk Synchronous Parallel / Pregel model\u001b[39;00m\n\u001b[0;32m   1642\u001b[0m     \u001b[38;5;66;03m# computation proceeds in steps, while there are channel updates\u001b[39;00m\n\u001b[0;32m   1643\u001b[0m     \u001b[38;5;66;03m# channel updates from step N are only visible in step N+1\u001b[39;00m\n\u001b[0;32m   1644\u001b[0m     \u001b[38;5;66;03m# channels are guaranteed to be immutable for the duration of the step,\u001b[39;00m\n\u001b[0;32m   1645\u001b[0m     \u001b[38;5;66;03m# with channel updates applied only at the transition between steps\u001b[39;00m\n\u001b[0;32m   1646\u001b[0m     \u001b[38;5;28;01mwhile\u001b[39;00m loop\u001b[38;5;241m.\u001b[39mtick(input_keys\u001b[38;5;241m=\u001b[39m\u001b[38;5;28mself\u001b[39m\u001b[38;5;241m.\u001b[39minput_channels):\n\u001b[1;32m-> 1647\u001b[0m \u001b[43m        \u001b[49m\u001b[38;5;28;43;01mfor\u001b[39;49;00m\u001b[43m \u001b[49m\u001b[43m_\u001b[49m\u001b[43m \u001b[49m\u001b[38;5;129;43;01min\u001b[39;49;00m\u001b[43m \u001b[49m\u001b[43mrunner\u001b[49m\u001b[38;5;241;43m.\u001b[39;49m\u001b[43mtick\u001b[49m\u001b[43m(\u001b[49m\n\u001b[0;32m   1648\u001b[0m \u001b[43m            \u001b[49m\u001b[43mloop\u001b[49m\u001b[38;5;241;43m.\u001b[39;49m\u001b[43mtasks\u001b[49m\u001b[38;5;241;43m.\u001b[39;49m\u001b[43mvalues\u001b[49m\u001b[43m(\u001b[49m\u001b[43m)\u001b[49m\u001b[43m,\u001b[49m\n\u001b[0;32m   1649\u001b[0m \u001b[43m            \u001b[49m\u001b[43mtimeout\u001b[49m\u001b[38;5;241;43m=\u001b[39;49m\u001b[38;5;28;43mself\u001b[39;49m\u001b[38;5;241;43m.\u001b[39;49m\u001b[43mstep_timeout\u001b[49m\u001b[43m,\u001b[49m\n\u001b[0;32m   1650\u001b[0m \u001b[43m            \u001b[49m\u001b[43mretry_policy\u001b[49m\u001b[38;5;241;43m=\u001b[39;49m\u001b[38;5;28;43mself\u001b[39;49m\u001b[38;5;241;43m.\u001b[39;49m\u001b[43mretry_policy\u001b[49m\u001b[43m,\u001b[49m\n\u001b[0;32m   1651\u001b[0m \u001b[43m            \u001b[49m\u001b[43mget_waiter\u001b[49m\u001b[38;5;241;43m=\u001b[39;49m\u001b[43mget_waiter\u001b[49m\u001b[43m,\u001b[49m\n\u001b[0;32m   1652\u001b[0m \u001b[43m        \u001b[49m\u001b[43m)\u001b[49m\u001b[43m:\u001b[49m\n\u001b[0;32m   1653\u001b[0m \u001b[43m            \u001b[49m\u001b[38;5;66;43;03m# emit output\u001b[39;49;00m\n\u001b[0;32m   1654\u001b[0m \u001b[43m            \u001b[49m\u001b[38;5;28;43;01myield from\u001b[39;49;00m\u001b[43m \u001b[49m\u001b[43moutput\u001b[49m\u001b[43m(\u001b[49m\u001b[43m)\u001b[49m\n\u001b[0;32m   1655\u001b[0m \u001b[38;5;66;03m# emit output\u001b[39;00m\n",
      "File \u001b[1;32mc:\\Users\\salma\\OneDrive\\Documents\\URCA - M2\\INFO0909\\SMA-Twiter\\sentimentAnalysis\\.venv\\Lib\\site-packages\\langgraph\\pregel\\runner.py:104\u001b[0m, in \u001b[0;36mPregelRunner.tick\u001b[1;34m(self, tasks, reraise, timeout, retry_policy, get_waiter)\u001b[0m\n\u001b[0;32m    102\u001b[0m t \u001b[38;5;241m=\u001b[39m tasks[\u001b[38;5;241m0\u001b[39m]\n\u001b[0;32m    103\u001b[0m \u001b[38;5;28;01mtry\u001b[39;00m:\n\u001b[1;32m--> 104\u001b[0m     \u001b[43mrun_with_retry\u001b[49m\u001b[43m(\u001b[49m\u001b[43mt\u001b[49m\u001b[43m,\u001b[49m\u001b[43m \u001b[49m\u001b[43mretry_policy\u001b[49m\u001b[43m,\u001b[49m\u001b[43m \u001b[49m\u001b[43mwriter\u001b[49m\u001b[38;5;241;43m=\u001b[39;49m\u001b[43mwriter\u001b[49m\u001b[43m)\u001b[49m\n\u001b[0;32m    105\u001b[0m     \u001b[38;5;28mself\u001b[39m\u001b[38;5;241m.\u001b[39mcommit(t, \u001b[38;5;28;01mNone\u001b[39;00m)\n\u001b[0;32m    106\u001b[0m \u001b[38;5;28;01mexcept\u001b[39;00m \u001b[38;5;167;01mException\u001b[39;00m \u001b[38;5;28;01mas\u001b[39;00m exc:\n",
      "File \u001b[1;32mc:\\Users\\salma\\OneDrive\\Documents\\URCA - M2\\INFO0909\\SMA-Twiter\\sentimentAnalysis\\.venv\\Lib\\site-packages\\langgraph\\pregel\\retry.py:40\u001b[0m, in \u001b[0;36mrun_with_retry\u001b[1;34m(task, retry_policy, writer)\u001b[0m\n\u001b[0;32m     38\u001b[0m task\u001b[38;5;241m.\u001b[39mwrites\u001b[38;5;241m.\u001b[39mclear()\n\u001b[0;32m     39\u001b[0m \u001b[38;5;66;03m# run the task\u001b[39;00m\n\u001b[1;32m---> 40\u001b[0m \u001b[43mtask\u001b[49m\u001b[38;5;241;43m.\u001b[39;49m\u001b[43mproc\u001b[49m\u001b[38;5;241;43m.\u001b[39;49m\u001b[43minvoke\u001b[49m\u001b[43m(\u001b[49m\u001b[43mtask\u001b[49m\u001b[38;5;241;43m.\u001b[39;49m\u001b[43minput\u001b[49m\u001b[43m,\u001b[49m\u001b[43m \u001b[49m\u001b[43mconfig\u001b[49m\u001b[43m)\u001b[49m\n\u001b[0;32m     41\u001b[0m \u001b[38;5;66;03m# if successful, end\u001b[39;00m\n\u001b[0;32m     42\u001b[0m \u001b[38;5;28;01mbreak\u001b[39;00m\n",
      "File \u001b[1;32mc:\\Users\\salma\\OneDrive\\Documents\\URCA - M2\\INFO0909\\SMA-Twiter\\sentimentAnalysis\\.venv\\Lib\\site-packages\\langgraph\\utils\\runnable.py:410\u001b[0m, in \u001b[0;36mRunnableSeq.invoke\u001b[1;34m(self, input, config, **kwargs)\u001b[0m\n\u001b[0;32m    408\u001b[0m context\u001b[38;5;241m.\u001b[39mrun(_set_config_context, config)\n\u001b[0;32m    409\u001b[0m \u001b[38;5;28;01mif\u001b[39;00m i \u001b[38;5;241m==\u001b[39m \u001b[38;5;241m0\u001b[39m:\n\u001b[1;32m--> 410\u001b[0m     \u001b[38;5;28minput\u001b[39m \u001b[38;5;241m=\u001b[39m \u001b[43mcontext\u001b[49m\u001b[38;5;241;43m.\u001b[39;49m\u001b[43mrun\u001b[49m\u001b[43m(\u001b[49m\u001b[43mstep\u001b[49m\u001b[38;5;241;43m.\u001b[39;49m\u001b[43minvoke\u001b[49m\u001b[43m,\u001b[49m\u001b[43m \u001b[49m\u001b[38;5;28;43minput\u001b[39;49m\u001b[43m,\u001b[49m\u001b[43m \u001b[49m\u001b[43mconfig\u001b[49m\u001b[43m,\u001b[49m\u001b[43m \u001b[49m\u001b[38;5;241;43m*\u001b[39;49m\u001b[38;5;241;43m*\u001b[39;49m\u001b[43mkwargs\u001b[49m\u001b[43m)\u001b[49m\n\u001b[0;32m    411\u001b[0m \u001b[38;5;28;01melse\u001b[39;00m:\n\u001b[0;32m    412\u001b[0m     \u001b[38;5;28minput\u001b[39m \u001b[38;5;241m=\u001b[39m context\u001b[38;5;241m.\u001b[39mrun(step\u001b[38;5;241m.\u001b[39minvoke, \u001b[38;5;28minput\u001b[39m, config)\n",
      "File \u001b[1;32mc:\\Users\\salma\\OneDrive\\Documents\\URCA - M2\\INFO0909\\SMA-Twiter\\sentimentAnalysis\\.venv\\Lib\\site-packages\\langgraph\\utils\\runnable.py:184\u001b[0m, in \u001b[0;36mRunnableCallable.invoke\u001b[1;34m(self, input, config, **kwargs)\u001b[0m\n\u001b[0;32m    182\u001b[0m \u001b[38;5;28;01melse\u001b[39;00m:\n\u001b[0;32m    183\u001b[0m     context\u001b[38;5;241m.\u001b[39mrun(_set_config_context, config)\n\u001b[1;32m--> 184\u001b[0m     ret \u001b[38;5;241m=\u001b[39m \u001b[43mcontext\u001b[49m\u001b[38;5;241;43m.\u001b[39;49m\u001b[43mrun\u001b[49m\u001b[43m(\u001b[49m\u001b[38;5;28;43mself\u001b[39;49m\u001b[38;5;241;43m.\u001b[39;49m\u001b[43mfunc\u001b[49m\u001b[43m,\u001b[49m\u001b[43m \u001b[49m\u001b[38;5;28;43minput\u001b[39;49m\u001b[43m,\u001b[49m\u001b[43m \u001b[49m\u001b[38;5;241;43m*\u001b[39;49m\u001b[38;5;241;43m*\u001b[39;49m\u001b[43mkwargs\u001b[49m\u001b[43m)\u001b[49m\n\u001b[0;32m    185\u001b[0m \u001b[38;5;28;01mif\u001b[39;00m \u001b[38;5;28misinstance\u001b[39m(ret, Runnable) \u001b[38;5;129;01mand\u001b[39;00m \u001b[38;5;28mself\u001b[39m\u001b[38;5;241m.\u001b[39mrecurse:\n\u001b[0;32m    186\u001b[0m     \u001b[38;5;28;01mreturn\u001b[39;00m ret\u001b[38;5;241m.\u001b[39minvoke(\u001b[38;5;28minput\u001b[39m, config)\n",
      "File \u001b[1;32mc:\\Users\\salma\\OneDrive\\Documents\\URCA - M2\\INFO0909\\SMA-Twiter\\sentimentAnalysis\\agents\\supervisor_agent.py:31\u001b[0m, in \u001b[0;36mSupervisorAgent.agent_node\u001b[1;34m(state, agent, name)\u001b[0m\n\u001b[0;32m     29\u001b[0m \u001b[38;5;129m@staticmethod\u001b[39m\n\u001b[0;32m     30\u001b[0m \u001b[38;5;28;01mdef\u001b[39;00m \u001b[38;5;21magent_node\u001b[39m(state, agent, name):\n\u001b[1;32m---> 31\u001b[0m     result \u001b[38;5;241m=\u001b[39m \u001b[43magent\u001b[49m\u001b[38;5;241;43m.\u001b[39;49m\u001b[43minvoke\u001b[49m\u001b[43m(\u001b[49m\u001b[43mstate\u001b[49m\u001b[43m)\u001b[49m\n\u001b[0;32m     32\u001b[0m     \u001b[38;5;28mprint\u001b[39m(\u001b[38;5;124m\"\u001b[39m\u001b[38;5;124m--------------------\u001b[39m\u001b[38;5;124m\"\u001b[39m)\n\u001b[0;32m     33\u001b[0m     \u001b[38;5;28mprint\u001b[39m(result)\n",
      "\u001b[1;31mTypeError\u001b[0m: TestModelAgent.invoke() missing 1 required positional argument: 'state'"
     ]
    }
   ],
   "source": [
    "# Définition de la structure de l'état initial du workflow\n",
    "initial_context_message = HumanMessage(\n",
    "    content=\"Provide context for the tweets you want to collect. \"\n",
    "            \"For example: 'Collect tweets related to Kamala Harris.'\"\n",
    ")\n",
    "\n",
    "# Définir l'état initial avec le message de contexte\n",
    "initial_state = {\n",
    "    \"messages\": [\n",
    "        initial_context_message\n",
    "    ],\n",
    "    \"data\": {},\n",
    "}\n",
    "\n",
    "# Définir une limite de récursion pour éviter des boucles infinies dans le workflow\n",
    "execution_config = {\"recursion_limit\": 150}\n",
    "\n",
    "# Démarrer le flux d'exécution en utilisant la méthode `stream` du graphe\n",
    "events = graph.stream(\n",
    "    initial_state,\n",
    "    execution_config,\n",
    ")\n",
    "\n",
    "# Parcourir les événements générés par le flux et les afficher\n",
    "for event in events:\n",
    "    print(event)\n",
    "    print(\"----\")\n"
   ]
  },
  {
   "cell_type": "code",
   "execution_count": null,
   "metadata": {},
   "outputs": [],
   "source": [
    "import pandas as pd\n",
    "df = pd.read_csv(\"tweets_labeled.csv\")\n",
    "df"
   ]
  },
  {
   "cell_type": "code",
   "execution_count": null,
   "metadata": {},
   "outputs": [],
   "source": [
    "from IPython.display import Image, display\n",
    "\n",
    "try:\n",
    "    display(Image(graph.get_graph(xray=True).draw_mermaid_png()))\n",
    "except Exception:\n",
    "    print(\"Erreur sur l'affichage\")"
   ]
  }
 ],
 "metadata": {
  "kernelspec": {
   "display_name": ".venv",
   "language": "python",
   "name": "python3"
  },
  "language_info": {
   "codemirror_mode": {
    "name": "ipython",
    "version": 3
   },
   "file_extension": ".py",
   "mimetype": "text/x-python",
   "name": "python",
   "nbconvert_exporter": "python",
   "pygments_lexer": "ipython3",
   "version": "3.12.7"
  }
 },
 "nbformat": 4,
 "nbformat_minor": 2
}
